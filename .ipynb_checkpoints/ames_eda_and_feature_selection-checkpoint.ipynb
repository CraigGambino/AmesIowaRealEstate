{
 "cells": [
  {
   "cell_type": "code",
   "execution_count": 1,
   "metadata": {},
   "outputs": [],
   "source": [
    "import pandas as pd\n",
    "import numpy as np\n",
    "import seaborn as sns\n",
    "from sklearn.preprocessing import StandardScaler\n",
    "from scipy.stats import pearsonr, spearmanr\n",
    "from statsmodels.stats.outliers_influence import variance_inflation_factor\n",
    "from collections import OrderedDict\n",
    "import warnings\n",
    "import clean\n",
    "warnings.filterwarnings('ignore')\n",
    "pd.set_option('display.max_columns', None)"
   ]
  },
  {
   "cell_type": "code",
   "execution_count": 2,
   "metadata": {},
   "outputs": [],
   "source": [
    "df = pd.read_csv('ames_clean.csv')\n",
    "df.set_index('id', verify_integrity=True, inplace=True)"
   ]
  },
  {
   "cell_type": "code",
   "execution_count": 3,
   "metadata": {},
   "outputs": [],
   "source": [
    "non_dummy = list(df.loc[:,'ms_subclass':'yr_sold'].columns)\n",
    "\n",
    "non_dummy.remove('total_bsmt_sf')\n",
    "\n",
    "non_dummy.remove('gr_liv_area')\n",
    "\n",
    "non_dummy.remove('2nd_flr_sf')\n",
    "\n",
    "non_dummy.remove('garage_cars')"
   ]
  },
  {
   "cell_type": "code",
   "execution_count": 4,
   "metadata": {},
   "outputs": [
    {
     "data": {
      "text/plain": [
       "OrderedDict([('ms_subclass', 1.4063853892226867),\n",
       "             ('lot_area', 1.3452025758075865),\n",
       "             ('overall_qual', 3.089049531952943),\n",
       "             ('overall_cond', 1.5150721265424978),\n",
       "             ('year_built', 3.469617456327778),\n",
       "             ('year_remod/add', 2.3916880006892285),\n",
       "             ('mas_vnr_area', 1.4211491973817005),\n",
       "             ('bsmtfin_sf_1', 5.0339060759861995),\n",
       "             ('bsmtfin_sf_2', 1.5635447894902395),\n",
       "             ('bsmt_unf_sf', 3.7463770114329313),\n",
       "             ('1st_flr_sf', 4.186033043448249),\n",
       "             ('low_qual_fin_sf', 1.077167238282408),\n",
       "             ('bsmt_full_bath', 2.166409344818574),\n",
       "             ('bsmt_half_bath', 1.1589756644919817),\n",
       "             ('full_bath', 2.288137336028823),\n",
       "             ('half_bath', 1.68299040610382),\n",
       "             ('bedroom_abvgr', 2.16403254438598),\n",
       "             ('kitchen_abvgr', 1.5182583617159784),\n",
       "             ('totrms_abvgrd', 3.383877095378159),\n",
       "             ('fireplaces', 1.5345235253079312),\n",
       "             ('garage_area', 1.8543124428197382),\n",
       "             ('wood_deck_sf', 1.2397551976883718),\n",
       "             ('open_porch_sf', 1.2251747043312724),\n",
       "             ('enclosed_porch', 1.226827695947069),\n",
       "             ('3ssn_porch', 1.0188564239475273),\n",
       "             ('screen_porch', 1.0970633053098588),\n",
       "             ('pool_area', 1.0689399411495708),\n",
       "             ('misc_val', 1.0845926983907663),\n",
       "             ('mo_sold', 1.04096253226333),\n",
       "             ('yr_sold', 1.044257924632906)])"
      ]
     },
     "execution_count": 4,
     "metadata": {},
     "output_type": "execute_result"
    }
   ],
   "source": [
    "ss = StandardScaler()\n",
    "X = ss.fit_transform(df[non_dummy].values)\n",
    "\n",
    "vifs = OrderedDict((non_dummy[i], variance_inflation_factor(X, i)) for i in range(len(non_dummy)))\n",
    "\n",
    "vifs # non dummy variables\n",
    "# the following redundant variables removed to reduce vif cutoff 5.5\n",
    "# total_bsmt_sf, gr_liv_area, 2nd_flr_sf, garage_cars"
   ]
  },
  {
   "cell_type": "code",
   "execution_count": 10,
   "metadata": {},
   "outputs": [
    {
     "data": {
      "text/plain": [
       "['ms_zoning_C (all)', 'ms_zoning_I (all)']"
      ]
     },
     "execution_count": 10,
     "metadata": {},
     "output_type": "execute_result"
    }
   ],
   "source": [
    "[col for col in df.columns if '(all)' in col]"
   ]
  },
  {
   "cell_type": "markdown",
   "metadata": {},
   "source": [
    "Also rename some columns."
   ]
  },
  {
   "cell_type": "code",
   "execution_count": 23,
   "metadata": {},
   "outputs": [],
   "source": [
    "df.rename(mapper={'ms_zoning_C (all)':'ms_zoning_C', 'ms_zoning_I (all)':'ms_zoning_I'}, axis='columns', inplace=True)"
   ]
  },
  {
   "cell_type": "code",
   "execution_count": 26,
   "metadata": {},
   "outputs": [],
   "source": [
    "df.drop(['total_bsmt_sf', 'gr_liv_area', '2nd_flr_sf', 'garage_cars'], axis=1, inplace=True)"
   ]
  },
  {
   "cell_type": "code",
   "execution_count": 27,
   "metadata": {},
   "outputs": [],
   "source": [
    "df.to_csv('ames_model.csv')"
   ]
  }
 ],
 "metadata": {
  "kernelspec": {
   "display_name": "Python [conda env:dsi]",
   "language": "python",
   "name": "conda-env-dsi-py"
  },
  "language_info": {
   "codemirror_mode": {
    "name": "ipython",
    "version": 3
   },
   "file_extension": ".py",
   "mimetype": "text/x-python",
   "name": "python",
   "nbconvert_exporter": "python",
   "pygments_lexer": "ipython3",
   "version": "3.6.4"
  }
 },
 "nbformat": 4,
 "nbformat_minor": 2
}
