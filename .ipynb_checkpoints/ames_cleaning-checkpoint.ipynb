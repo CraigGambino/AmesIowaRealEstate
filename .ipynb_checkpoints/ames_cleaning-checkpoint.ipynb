{
 "cells": [
  {
   "cell_type": "code",
   "execution_count": null,
   "metadata": {},
   "outputs": [],
   "source": [
    "import pandas as pd\n",
    "import warnings\n",
    "import clean\n",
    "warnings.filterwarnings('ignore')\n",
    "pd.set_option('display.max_columns', None)"
   ]
  },
  {
   "cell_type": "code",
   "execution_count": null,
   "metadata": {},
   "outputs": [],
   "source": [
    "rawdf = pd.read_csv('train.csv')"
   ]
  },
  {
   "cell_type": "code",
   "execution_count": null,
   "metadata": {},
   "outputs": [],
   "source": [
    "rawdf.columns = [col.replace(' ', '_').lower() for col in rawdf.columns]"
   ]
  },
  {
   "cell_type": "code",
   "execution_count": null,
   "metadata": {},
   "outputs": [],
   "source": [
    "for col in rawdf.columns:\n",
    "    print(col)"
   ]
  },
  {
   "cell_type": "markdown",
   "metadata": {},
   "source": [
    "### Deal with Missing Data"
   ]
  },
  {
   "cell_type": "markdown",
   "metadata": {},
   "source": [
    "#### Columns with Explained NA \n",
    "\n",
    "BsmtQual: Height of the basement  \n",
    "NA No Basement\n",
    "\n",
    "BsmtCond: General condition of the basement  \n",
    "NA No Basement\n",
    "\n",
    "BsmtFinType1: Quality of basement finished area  \n",
    "NA No Basement\n",
    "\n",
    "BsmtFinType2: Quality of second finished area (if present)  \n",
    "NA No Basement\n",
    "\n",
    "FireplaceQu: Fireplace quality  \n",
    "NA No Fireplace\n",
    "\n",
    "GarageType: Garage location  \n",
    "NA No Garage\n",
    "\n",
    "GarageFinish: Interior finish of the garage  \n",
    "NA No Garage\n",
    "\n",
    "GarageQual: Garage quality  \n",
    "NA No Garage\n",
    "\n",
    "GarageCond: Garage condition  \n",
    "NA No Garage\n",
    "\n",
    "PoolQC: Pool quality  \n",
    "NA No Pool\n",
    "\n",
    "Fence: Fence quality  \n",
    "NA No Fence\n",
    "\n",
    "MiscFeature: Miscellaneous feature not covered in other categories  \n",
    "NA None\n"
   ]
  },
  {
   "cell_type": "code",
   "execution_count": null,
   "metadata": {},
   "outputs": [],
   "source": [
    "ng = clean.null_groups(rawdf)\n",
    "for k,v in ng.items():\n",
    "    print(k,v)"
   ]
  },
  {
   "cell_type": "markdown",
   "metadata": {},
   "source": [
    "The basement group with 55 NaN values are all explained.  \n",
    "The garage group with 114 NaN values are all explained, but garage_yr_built must be dropped.  \n",
    "The garage condition and garage quality ratings capture the value of the garage.  \n",
    "Must investigate the null values of masonry group and the other basement group."
   ]
  },
  {
   "cell_type": "code",
   "execution_count": null,
   "metadata": {},
   "outputs": [],
   "source": [
    "rawdf['mas_vnr_type'].value_counts(dropna=False)"
   ]
  },
  {
   "cell_type": "code",
   "execution_count": null,
   "metadata": {},
   "outputs": [],
   "source": [
    "rawdf['mas_vnr_area'].value_counts(dropna=False).head()"
   ]
  },
  {
   "cell_type": "markdown",
   "metadata": {},
   "source": [
    "Masonry column mas_vnr_type contains both None and NaN.  \n",
    "Masonry column mas_vnr_area contains both None and NaN.  \n",
    "There are no other masonry columns from which to logically impute the NaN values.\n",
    "These rows will need to be dropped or masonry columns will need to be dropped."
   ]
  },
  {
   "cell_type": "markdown",
   "metadata": {},
   "source": [
    "#### Check the remaining columns with explained null values. Fireplace, pool, misc, and fence."
   ]
  },
  {
   "cell_type": "code",
   "execution_count": null,
   "metadata": {},
   "outputs": [],
   "source": [
    "rawdf['pool_qc'].value_counts(dropna=False)"
   ]
  },
  {
   "cell_type": "code",
   "execution_count": null,
   "metadata": {},
   "outputs": [],
   "source": [
    "rawdf['pool_area'].value_counts(dropna=False)"
   ]
  },
  {
   "cell_type": "markdown",
   "metadata": {},
   "source": [
    "It can be seen that all pool quality NaN values correspond to pool area = 0.  \n",
    "Pool quality NaN values indicate no pool.  "
   ]
  },
  {
   "cell_type": "code",
   "execution_count": null,
   "metadata": {},
   "outputs": [],
   "source": [
    "(rawdf['pool_qc'].isnull() & rawdf['pool_area']!=0.0).any() # False"
   ]
  },
  {
   "cell_type": "markdown",
   "metadata": {},
   "source": [
    "The fireplace quality NaN values are all explained. "
   ]
  },
  {
   "cell_type": "code",
   "execution_count": null,
   "metadata": {},
   "outputs": [],
   "source": [
    "rawdf['fireplace_qu'].value_counts(dropna=False)"
   ]
  },
  {
   "cell_type": "markdown",
   "metadata": {},
   "source": [
    "The fence quality NaN values are all explained. "
   ]
  },
  {
   "cell_type": "code",
   "execution_count": null,
   "metadata": {},
   "outputs": [],
   "source": [
    "rawdf['fence'].value_counts(dropna=False)"
   ]
  },
  {
   "cell_type": "markdown",
   "metadata": {},
   "source": [
    "Miscellaneous Features and Values have explained NaN values."
   ]
  },
  {
   "cell_type": "code",
   "execution_count": null,
   "metadata": {},
   "outputs": [],
   "source": [
    "rawdf['misc_feature'].value_counts(dropna=False)"
   ]
  },
  {
   "cell_type": "code",
   "execution_count": null,
   "metadata": {},
   "outputs": [],
   "source": [
    "(rawdf['misc_feature'].isnull() & rawdf['misc_val']!=0.0).any()"
   ]
  },
  {
   "cell_type": "code",
   "execution_count": null,
   "metadata": {},
   "outputs": [],
   "source": [
    "rawdf['garage_type'].value_counts(dropna=False)"
   ]
  },
  {
   "cell_type": "code",
   "execution_count": null,
   "metadata": {},
   "outputs": [],
   "source": [
    "rawdf[rawdf['garage_type'].notnull() & rawdf['garage_qual'].isnull()]\n",
    "# conflicting info about garage 6:1 columns say there is no garage  \n",
    "# impute garage type to NaN "
   ]
  },
  {
   "cell_type": "code",
   "execution_count": null,
   "metadata": {},
   "outputs": [],
   "source": [
    "rawdf['garage_type'][1712] = np.nan"
   ]
  },
  {
   "cell_type": "code",
   "execution_count": null,
   "metadata": {},
   "outputs": [],
   "source": [
    "rawdf.isnull().sum()[:10]"
   ]
  },
  {
   "cell_type": "markdown",
   "metadata": {},
   "source": [
    "#### Lastly examine Lot Frontage and Alley  \n",
    "\n",
    "LotFrontage: Linear feet of street connected to property\n",
    "\n",
    "Alley: Type of alley access to property\n",
    "Grvl Gravel\n",
    "Pave Paved\n",
    "NA No alley access"
   ]
  },
  {
   "cell_type": "markdown",
   "metadata": {},
   "source": [
    "All alley NaN are explained."
   ]
  },
  {
   "cell_type": "markdown",
   "metadata": {},
   "source": [
    "Lot Frontage NaN seems to be missing at random, is not highly correlated with the target,  \n",
    "and 16% of values are missing; therefore drop lot_frontage."
   ]
  },
  {
   "cell_type": "code",
   "execution_count": null,
   "metadata": {},
   "outputs": [],
   "source": [
    "rawdf[['lot_frontage', 'saleprice']].dropna(how='any').corr()"
   ]
  },
  {
   "cell_type": "code",
   "execution_count": null,
   "metadata": {},
   "outputs": [],
   "source": [
    "rawdf.select_dtypes(exclude='object').isnull().sum()"
   ]
  },
  {
   "cell_type": "code",
   "execution_count": null,
   "metadata": {},
   "outputs": [],
   "source": [
    "rawdf.select_dtypes(include='object').isnull().sum()"
   ]
  },
  {
   "cell_type": "markdown",
   "metadata": {},
   "source": [
    "Handle remaining nulls."
   ]
  },
  {
   "cell_type": "code",
   "execution_count": null,
   "metadata": {},
   "outputs": [],
   "source": [
    "mask = (rawdf[[col for col in rawdf.columns if 'bsmt' in col]].isnull().sum(axis=1) > 0)"
   ]
  },
  {
   "cell_type": "code",
   "execution_count": null,
   "metadata": {},
   "outputs": [],
   "source": [
    "rawdf[mask][[col for col in rawdf.columns if 'bsmt' in col]]"
   ]
  },
  {
   "cell_type": "markdown",
   "metadata": {},
   "source": [
    "index 616 bsmt_full_bath, bsmt_half_bath impute to 0.0  \n",
    "  \n",
    "index 1327 bsmtfin_sf_1, bsmtfin_sf_2, bsmt_unf_sf, total_bsmt_sf, bsmt_full_bath, bsmt_half_bath impute to 0.0"
   ]
  },
  {
   "cell_type": "code",
   "execution_count": null,
   "metadata": {},
   "outputs": [],
   "source": [
    "for col in ['bsmtfin_sf_1', 'bsmtfin_sf_2', 'bsmt_unf_sf', 'total_bsmt_sf', 'bsmt_full_bath', 'bsmt_half_bath']:\n",
    "    rawdf[col].fillna(0.0, axis=0, inplace=True)"
   ]
  },
  {
   "cell_type": "code",
   "execution_count": null,
   "metadata": {},
   "outputs": [],
   "source": [
    "rawdf.loc[[616, 1327], [col for col in rawdf.columns if 'bsmt' in col]]"
   ]
  },
  {
   "cell_type": "code",
   "execution_count": null,
   "metadata": {},
   "outputs": [],
   "source": [
    "mask = (rawdf[[col for col in rawdf.columns if 'garag' in col]].isnull().sum(axis=1) > 0)\n",
    "rawdf[mask][[col for col in rawdf.columns if 'garag' in col]]"
   ]
  },
  {
   "cell_type": "code",
   "execution_count": null,
   "metadata": {},
   "outputs": [],
   "source": [
    "rawdf['garage_area'].fillna(0.0, axis=0, inplace=True)\n",
    "\n",
    "rawdf['garage_cars'].fillna(0.0, axis=0, inplace=True)"
   ]
  },
  {
   "cell_type": "code",
   "execution_count": null,
   "metadata": {},
   "outputs": [],
   "source": [
    "rawdf['mas_vnr_area'].fillna(0.0, axis=0, inplace=True)\n",
    "      \n",
    "rawdf['mas_vnr_type'].fillna('None', axis=0, inplace=True)"
   ]
  },
  {
   "cell_type": "code",
   "execution_count": null,
   "metadata": {},
   "outputs": [],
   "source": [
    "rawdf.drop('lot_frontage', axis=1, inplace=True)\n",
    "\n",
    "rawdf.drop('garage_yr_blt', axis=1, inplace=True)"
   ]
  },
  {
   "cell_type": "markdown",
   "metadata": {},
   "source": [
    "The remaining null values belong to categorical variables, which can be handled as dummies."
   ]
  },
  {
   "cell_type": "code",
   "execution_count": null,
   "metadata": {},
   "outputs": [],
   "source": [
    "df = pd.get_dummies(rawdf, dummy_na=True, drop_first=True)"
   ]
  },
  {
   "cell_type": "code",
   "execution_count": null,
   "metadata": {},
   "outputs": [],
   "source": [
    "len(df['id'].unique())"
   ]
  },
  {
   "cell_type": "markdown",
   "metadata": {},
   "source": [
    "ID and PID are unique so PID will be dropped, it adds no info."
   ]
  },
  {
   "cell_type": "code",
   "execution_count": null,
   "metadata": {},
   "outputs": [],
   "source": [
    "df.drop('pid', axis=1, inplace=True)"
   ]
  },
  {
   "cell_type": "code",
   "execution_count": null,
   "metadata": {},
   "outputs": [],
   "source": [
    "df.set_index('id', inplace=True, verify_integrity=True)"
   ]
  },
  {
   "cell_type": "markdown",
   "metadata": {},
   "source": [
    "This is the new Data Set."
   ]
  },
  {
   "cell_type": "code",
   "execution_count": null,
   "metadata": {},
   "outputs": [],
   "source": [
    "df.to_csv('ames_clean.csv', index=False)"
   ]
  }
 ],
 "metadata": {
  "kernelspec": {
   "display_name": "Python [conda env:dsi]",
   "language": "python",
   "name": "conda-env-dsi-py"
  },
  "language_info": {
   "codemirror_mode": {
    "name": "ipython",
    "version": 3
   },
   "file_extension": ".py",
   "mimetype": "text/x-python",
   "name": "python",
   "nbconvert_exporter": "python",
   "pygments_lexer": "ipython3",
   "version": "3.6.4"
  }
 },
 "nbformat": 4,
 "nbformat_minor": 2
}
